{
 "cells": [
  {
   "cell_type": "code",
   "execution_count": 21,
   "metadata": {
    "collapsed": true
   },
   "outputs": [],
   "source": [
    "import numpy as np\n",
    "import matplotlib.pylab as plt"
   ]
  },
  {
   "cell_type": "markdown",
   "metadata": {},
   "source": [
    "# 나쁜구현 예"
   ]
  },
  {
   "cell_type": "code",
   "execution_count": 3,
   "metadata": {
    "collapsed": true
   },
   "outputs": [],
   "source": [
    "def numerical_diff_bad(f,x):\n",
    "    h = 10e-50\n",
    "    return (f(x+h)-f(x))/h"
   ]
  },
  {
   "cell_type": "code",
   "execution_count": 4,
   "metadata": {},
   "outputs": [
    {
     "data": {
      "text/plain": [
       "0.0"
      ]
     },
     "execution_count": 4,
     "metadata": {},
     "output_type": "execute_result"
    }
   ],
   "source": [
    "np.float32(10e-50)"
   ]
  },
  {
   "cell_type": "markdown",
   "metadata": {},
   "source": [
    "# 개선"
   ]
  },
  {
   "cell_type": "code",
   "execution_count": 5,
   "metadata": {
    "collapsed": true
   },
   "outputs": [],
   "source": [
    "def numerical_diff(f,x):\n",
    "    h = 1e-4\n",
    "    return (f(x+h) - f(x-h)) / (2*h)"
   ]
  },
  {
   "cell_type": "markdown",
   "metadata": {},
   "source": [
    "# 수치 미분의 예"
   ]
  },
  {
   "cell_type": "code",
   "execution_count": 6,
   "metadata": {
    "collapsed": true
   },
   "outputs": [],
   "source": [
    "def function_1(x):\n",
    "    return 0.01*x**2 + 0.1*x"
   ]
  },
  {
   "cell_type": "code",
   "execution_count": 7,
   "metadata": {},
   "outputs": [
    {
     "data": {
      "image/png": "[encoded data removed]",
      "text/plain": [
       "<matplotlib.figure.Figure at 0x1464a29e2b0>"
      ]
     },
     "metadata": {},
     "output_type": "display_data"
    }
   ],
   "source": [
    "x = np.arange(0.0, 20.0, 0.1)\n",
    "y = function_1(x)\n",
    "plt.xlabel(\"x\")\n",
    "plt.ylabel(\"y\")\n",
    "plt.plot(x,y)\n",
    "plt.show()"
   ]
  },
  {
   "cell_type": "code",
   "execution_count": 8,
   "metadata": {},
   "outputs": [
    {
     "data": {
      "text/plain": [
       "0.1999999999990898"
      ]
     },
     "execution_count": 8,
     "metadata": {},
     "output_type": "execute_result"
    }
   ],
   "source": [
    "numerical_diff(function_1,5)"
   ]
  },
  {
   "cell_type": "code",
   "execution_count": 9,
   "metadata": {},
   "outputs": [
    {
     "data": {
      "text/plain": [
       "0.2999999999986347"
      ]
     },
     "execution_count": 9,
     "metadata": {},
     "output_type": "execute_result"
    }
   ],
   "source": [
    "numerical_diff(function_1,10)"
   ]
  },
  {
   "cell_type": "code",
   "execution_count": 10,
   "metadata": {
    "collapsed": true
   },
   "outputs": [],
   "source": [
    "def tangent_line(f, x):\n",
    "    d = numerical_diff(f,x)\n",
    "    print(d)\n",
    "    y = f(x) - d*x\n",
    "    return lambda t: d*t + y"
   ]
  },
  {
   "cell_type": "code",
   "execution_count": 11,
   "metadata": {},
   "outputs": [
    {
     "name": "stdout",
     "output_type": "stream",
     "text": [
      "0.1999999999990898\n"
     ]
    },
    {
     "data": {
      "image/png": "[encoded data removed]",
      "text/plain": [
       "<matplotlib.figure.Figure at 0x1464a29e2e8>"
      ]
     },
     "metadata": {},
     "output_type": "display_data"
    }
   ],
   "source": [
    "x = np.arange(0.0, 20.0, 0.1)\n",
    "y = function_1(x)\n",
    "plt.xlabel(\"x\")\n",
    "plt.ylabel(\"f(x)\")\n",
    "\n",
    "tf = tangent_line(function_1, 5)\n",
    "y2 = tf(x)\n",
    "\n",
    "plt.plot(x,y)\n",
    "plt.plot(x,y2)\n",
    "plt.show()"
   ]
  },
  {
   "cell_type": "code",
   "execution_count": 45,
   "metadata": {
    "collapsed": true
   },
   "outputs": [],
   "source": [
    "def function_2(x):\n",
    "#     return x[0]**2 + x[1]**2\n",
    "    return np.sum(x**2, axis=0)"
   ]
  },
  {
   "cell_type": "code",
   "execution_count": 46,
   "metadata": {},
   "outputs": [
    {
     "name": "stdout",
     "output_type": "stream",
     "text": [
      "[  0.00000000e+00   2.00000000e-02   8.00000000e-02   1.80000000e-01\n",
      "   3.20000000e-01   5.00000000e-01   7.20000000e-01   9.80000000e-01\n",
      "   1.28000000e+00   1.62000000e+00   2.00000000e+00   2.42000000e+00\n",
      "   2.88000000e+00   3.38000000e+00   3.92000000e+00   4.50000000e+00\n",
      "   5.12000000e+00   5.78000000e+00   6.48000000e+00   7.22000000e+00\n",
      "   8.00000000e+00   8.82000000e+00   9.68000000e+00   1.05800000e+01\n",
      "   1.15200000e+01   1.25000000e+01   1.35200000e+01   1.45800000e+01\n",
      "   1.56800000e+01   1.68200000e+01   1.80000000e+01   1.92200000e+01\n",
      "   2.04800000e+01   2.17800000e+01   2.31200000e+01   2.45000000e+01\n",
      "   2.59200000e+01   2.73800000e+01   2.88800000e+01   3.04200000e+01\n",
      "   3.20000000e+01   3.36200000e+01   3.52800000e+01   3.69800000e+01\n",
      "   3.87200000e+01   4.05000000e+01   4.23200000e+01   4.41800000e+01\n",
      "   4.60800000e+01   4.80200000e+01   5.00000000e+01   5.20200000e+01\n",
      "   5.40800000e+01   5.61800000e+01   5.83200000e+01   6.05000000e+01\n",
      "   6.27200000e+01   6.49800000e+01   6.72800000e+01   6.96200000e+01\n",
      "   7.20000000e+01   7.44200000e+01   7.68800000e+01   7.93800000e+01\n",
      "   8.19200000e+01   8.45000000e+01   8.71200000e+01   8.97800000e+01\n",
      "   9.24800000e+01   9.52200000e+01   9.80000000e+01   1.00820000e+02\n",
      "   1.03680000e+02   1.06580000e+02   1.09520000e+02   1.12500000e+02\n",
      "   1.15520000e+02   1.18580000e+02   1.21680000e+02   1.24820000e+02\n",
      "   1.28000000e+02   1.31220000e+02   1.34480000e+02   1.37780000e+02\n",
      "   1.41120000e+02   1.44500000e+02   1.47920000e+02   1.51380000e+02\n",
      "   1.54880000e+02   1.58420000e+02   1.62000000e+02   1.65620000e+02\n",
      "   1.69280000e+02   1.72980000e+02   1.76720000e+02   1.80500000e+02\n",
      "   1.84320000e+02   1.88180000e+02   1.92080000e+02   1.96020000e+02\n",
      "   2.00000000e+02   2.04020000e+02   2.08080000e+02   2.12180000e+02\n",
      "   2.16320000e+02   2.20500000e+02   2.24720000e+02   2.28980000e+02\n",
      "   2.33280000e+02   2.37620000e+02   2.42000000e+02   2.46420000e+02\n",
      "   2.50880000e+02   2.55380000e+02   2.59920000e+02   2.64500000e+02\n",
      "   2.69120000e+02   2.73780000e+02   2.78480000e+02   2.83220000e+02\n",
      "   2.88000000e+02   2.92820000e+02   2.97680000e+02   3.02580000e+02\n",
      "   3.07520000e+02   3.12500000e+02   3.17520000e+02   3.22580000e+02\n",
      "   3.27680000e+02   3.32820000e+02   3.38000000e+02   3.43220000e+02\n",
      "   3.48480000e+02   3.53780000e+02   3.59120000e+02   3.64500000e+02\n",
      "   3.69920000e+02   3.75380000e+02   3.80880000e+02   3.86420000e+02\n",
      "   3.92000000e+02   3.97620000e+02   4.03280000e+02   4.08980000e+02\n",
      "   4.14720000e+02   4.20500000e+02   4.26320000e+02   4.32180000e+02\n",
      "   4.38080000e+02   4.44020000e+02   4.50000000e+02   4.56020000e+02\n",
      "   4.62080000e+02   4.68180000e+02   4.74320000e+02   4.80500000e+02\n",
      "   4.86720000e+02   4.92980000e+02   4.99280000e+02   5.05620000e+02\n",
      "   5.12000000e+02   5.18420000e+02   5.24880000e+02   5.31380000e+02\n",
      "   5.37920000e+02   5.44500000e+02   5.51120000e+02   5.57780000e+02\n",
      "   5.64480000e+02   5.71220000e+02   5.78000000e+02   5.84820000e+02\n",
      "   5.91680000e+02   5.98580000e+02   6.05520000e+02   6.12500000e+02\n",
      "   6.19520000e+02   6.26580000e+02   6.33680000e+02   6.40820000e+02\n",
      "   6.48000000e+02   6.55220000e+02   6.62480000e+02   6.69780000e+02\n",
      "   6.77120000e+02   6.84500000e+02   6.91920000e+02   6.99380000e+02\n",
      "   7.06880000e+02   7.14420000e+02   7.22000000e+02   7.29620000e+02\n",
      "   7.37280000e+02   7.44980000e+02   7.52720000e+02   7.60500000e+02\n",
      "   7.68320000e+02   7.76180000e+02   7.84080000e+02   7.92020000e+02]\n"
     ]
    }
   ],
   "source": [
    "x = [np.arange(0.0, 20.0, 0.1),np.arange(0.0, 20.0, 0.1)]\n",
    "y = function_2(np.array(x))\n",
    "# plt.xlabel(\"x\")\n",
    "# plt.ylabel(\"f(x)\")\n",
    "# plt.plot(x[0],x[1],y)\n",
    "# plt.show()\n",
    "# print(x)\n",
    "print(y)"
   ]
  },
  {
   "cell_type": "code",
   "execution_count": null,
   "metadata": {
    "collapsed": true
   },
   "outputs": [],
   "source": []
  }
 ],
 "metadata": {
  "kernelspec": {
   "display_name": "Python 3",
   "language": "python",
   "name": "python3"
  },
  "language_info": {
   "codemirror_mode": {
    "name": "ipython",
    "version": 3
   },
   "file_extension": ".py",
   "mimetype": "text/x-python",
   "name": "python",
   "nbconvert_exporter": "python",
   "pygments_lexer": "ipython3",
   "version": "3.6.3"
  }
 },
 "nbformat": 4,
 "nbformat_minor": 2
}
