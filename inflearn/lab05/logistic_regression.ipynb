{
 "cells": [
  {
   "cell_type": "code",
   "execution_count": 1,
   "metadata": {},
   "outputs": [],
   "source": [
    "import tensorflow as tf"
   ]
  },
  {
   "cell_type": "markdown",
   "metadata": {},
   "source": [
    "# x y data"
   ]
  },
  {
   "cell_type": "code",
   "execution_count": 2,
   "metadata": {},
   "outputs": [],
   "source": [
    "x_data = [[1,2],[2,3],[3,1],[4,3],[5,3],[6,2]]\n",
    "y_data = [[0],[0],[0],[1],[1],[1]]"
   ]
  },
  {
   "cell_type": "markdown",
   "metadata": {},
   "source": [
    "# placeholder for a tensor that will be always fed."
   ]
  },
  {
   "cell_type": "code",
   "execution_count": 3,
   "metadata": {},
   "outputs": [],
   "source": [
    "X = tf.placeholder(tf.float32, shape=[None, 2])\n",
    "Y = tf.placeholder(tf.float32, shape=[None, 1])"
   ]
  },
  {
   "cell_type": "code",
   "execution_count": 4,
   "metadata": {},
   "outputs": [],
   "source": [
    "W = tf.Variable(tf.random_normal([2,1]), name='weight')\n",
    "b = tf.Variable(tf.random_normal([1]), name='bias')"
   ]
  },
  {
   "cell_type": "markdown",
   "metadata": {},
   "source": [
    "# Hypothesis using sigmoid:\n",
    "## tf.div(1., 1. + tf.exp(tf.matmul(X, W) + b)"
   ]
  },
  {
   "cell_type": "code",
   "execution_count": 5,
   "metadata": {},
   "outputs": [],
   "source": [
    "hypothesis = tf.sigmoid(tf.matmul(X, W) + b)"
   ]
  },
  {
   "cell_type": "code",
   "execution_count": 6,
   "metadata": {},
   "outputs": [],
   "source": [
    "cost = -tf.reduce_mean(Y * tf.log(hypothesis) + (1 - Y) * tf.log(1 - hypothesis))\n",
    "train = tf.train.GradientDescentOptimizer(learning_rate=0.01).minimize(cost)"
   ]
  },
  {
   "cell_type": "code",
   "execution_count": 7,
   "metadata": {},
   "outputs": [],
   "source": [
    "# Accuracy computation\n",
    "# True if hypothesis > 0.5 else False\n",
    "predicted = tf.cast(hypothesis > 0.5, dtype=tf.float32) # true=1 false=0 with tf.cast\n",
    "accuracy = tf.reduce_mean(tf.cast(tf.equal(predicted, Y), dtype=tf.float32))"
   ]
  },
  {
   "cell_type": "code",
   "execution_count": 9,
   "metadata": {},
   "outputs": [
    {
     "name": "stdout",
     "output_type": "stream",
     "text": [
      "0 1.4895262\n",
      "200 0.6743703\n",
      "400 0.5672372\n",
      "600 0.5153272\n",
      "800 0.483747\n",
      "1000 0.46073782\n",
      "1200 0.4419019\n",
      "1400 0.42540112\n",
      "1600 0.41039374\n",
      "1800 0.39646363\n",
      "2000 0.38338995\n",
      "2200 0.3710455\n",
      "2400 0.35935083\n",
      "2600 0.34825063\n",
      "2800 0.33770275\n",
      "3000 0.3276725\n",
      "3200 0.3181291\n",
      "3400 0.309045\n",
      "3600 0.30039397\n",
      "3800 0.2921519\n",
      "4000 0.2842958\n",
      "4200 0.27680394\n",
      "4400 0.26965582\n",
      "4600 0.26283178\n",
      "4800 0.2563137\n",
      "5000 0.25008428\n",
      "5200 0.24412708\n",
      "5400 0.23842698\n",
      "5600 0.2329694\n",
      "5800 0.22774096\n",
      "6000 0.22272901\n",
      "6200 0.21792163\n",
      "6400 0.21330766\n",
      "6600 0.20887662\n",
      "6800 0.20461875\n",
      "7000 0.20052482\n",
      "7200 0.19658631\n",
      "7400 0.19279493\n",
      "7600 0.18914342\n",
      "7800 0.18562444\n",
      "8000 0.18223132\n",
      "8200 0.17895786\n",
      "8400 0.17579807\n",
      "8600 0.17274646\n",
      "8800 0.16979788\n",
      "9000 0.16694738\n",
      "9200 0.16419032\n",
      "9400 0.16152242\n",
      "9600 0.1589396\n",
      "9800 0.15643789\n",
      "10000 0.15401368\n",
      "\n",
      "Hypothesis:  [[0.03266365]\n",
      " [0.16137457]\n",
      " [0.31394085]\n",
      " [0.7772673 ]\n",
      " [0.936952  ]\n",
      " [0.9792925 ]] \n",
      "Correct (Y):  [[0.]\n",
      " [0.]\n",
      " [0.]\n",
      " [1.]\n",
      " [1.]\n",
      " [1.]] \n",
      "Accuracy:  1.0\n"
     ]
    }
   ],
   "source": [
    "with tf.Session() as sess:\n",
    "    sess.run(tf.global_variables_initializer())\n",
    "    \n",
    "    for step in range(10001):\n",
    "        cost_val, _ = sess.run([cost, train], feed_dict={X: x_data, Y: y_data})\n",
    "        if step % 200 == 0:\n",
    "            print(step, cost_val)\n",
    "            \n",
    "    h, c, a = sess.run([hypothesis, predicted, accuracy], feed_dict={X: x_data, Y: y_data})\n",
    "    print(\"\\nHypothesis: \", h, \"\\nCorrect (Y): \", c, \"\\nAccuracy: \", a)"
   ]
  },
  {
   "cell_type": "code",
   "execution_count": null,
   "metadata": {},
   "outputs": [],
   "source": []
  }
 ],
 "metadata": {
  "kernelspec": {
   "display_name": "Python 3",
   "language": "python",
   "name": "python3"
  },
  "language_info": {
   "codemirror_mode": {
    "name": "ipython",
    "version": 3
   },
   "file_extension": ".py",
   "mimetype": "text/x-python",
   "name": "python",
   "nbconvert_exporter": "python",
   "pygments_lexer": "ipython3",
   "version": "3.6.5"
  }
 },
 "nbformat": 4,
 "nbformat_minor": 2
}
