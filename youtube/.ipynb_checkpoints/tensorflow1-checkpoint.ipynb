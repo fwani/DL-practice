{
 "cells": [
  {
   "cell_type": "code",
   "execution_count": 1,
   "metadata": {
    "collapsed": true
   },
   "outputs": [],
   "source": [
    "import tensorflow as tf"
   ]
  },
  {
   "cell_type": "code",
   "execution_count": 18,
   "metadata": {},
   "outputs": [],
   "source": [
    "ph = tf.placeholder(dtype=tf.float32, shape=[3,3])\n",
    "var = tf.Variable([1,2,3,4,5], dtype=tf.float32)\n",
    "const = tf.constant([10,20,30,40,50], dtype=tf.float32)"
   ]
  },
  {
   "cell_type": "code",
   "execution_count": 23,
   "metadata": {},
   "outputs": [
    {
     "name": "stdout",
     "output_type": "stream",
     "text": [
      "Tensor(\"add_2:0\", shape=(1,), dtype=int32)\n"
     ]
    }
   ],
   "source": [
    "a=tf.constant([5])\n",
    "b=tf.constant([10])\n",
    "c=tf.constant([2])\n",
    "\n",
    "d= a*b+c\n",
    "print(d)"
   ]
  },
  {
   "cell_type": "code",
   "execution_count": 25,
   "metadata": {},
   "outputs": [
    {
     "name": "stdout",
     "output_type": "stream",
     "text": [
      "Tensor(\"add_3:0\", shape=(1,), dtype=int32)\n"
     ]
    }
   ],
   "source": [
    "var1=tf.Variable([5])\n",
    "var2=tf.Variable([3])\n",
    "var3=tf.Variable([2])\n",
    "\n",
    "var4 = var1 * var2 + var3\n",
    "print(var4)"
   ]
  },
  {
   "cell_type": "code",
   "execution_count": 30,
   "metadata": {},
   "outputs": [
    {
     "name": "stdout",
     "output_type": "stream",
     "text": [
      "Tensor(\"Placeholder_8:0\", dtype=float32)\n",
      "Tensor(\"Placeholder_9:0\", dtype=float32)\n",
      "Tensor(\"Placeholder_10:0\", dtype=float32)\n"
     ]
    }
   ],
   "source": [
    "value1 = 5\n",
    "value2 = 3\n",
    "value3 = 2\n",
    "\n",
    "ph1 = tf.placeholder(dtype=tf.float32)\n",
    "ph2 = tf.placeholder(dtype=tf.float32)\n",
    "ph3 = tf.placeholder(dtype=tf.float32)\n",
    "\n",
    "result_value = ph1 * ph2 + ph3\n",
    "\n",
    "feed_dict = {ph1: value1, ph2: value2, ph3: value3}\n",
    "\n",
    "print(ph1)\n",
    "print(ph2)\n",
    "print(ph3)"
   ]
  },
  {
   "cell_type": "code",
   "execution_count": 37,
   "metadata": {
    "collapsed": true
   },
   "outputs": [],
   "source": [
    "image = [[1,2,3,4,5],\n",
    "         [5,4,3,2,1],\n",
    "         [10,20,30,40,50]]\n",
    "label = [10,20,30,40,50]\n",
    "\n",
    "ph_image = tf.placeholder(dtype=tf.float32)\n",
    "ph_label = tf.placeholder(dtype=tf.float32)\n",
    "\n",
    "feed_dict = {ph_image:image, ph_label: label}\n",
    "\n",
    "result_tensor = ph_image + ph_label"
   ]
  },
  {
   "cell_type": "code",
   "execution_count": 38,
   "metadata": {},
   "outputs": [
    {
     "name": "stdout",
     "output_type": "stream",
     "text": [
      "[[  11.   22.   33.   44.   55.]\n",
      " [  15.   24.   33.   42.   51.]\n",
      " [  20.   40.   60.   80.  100.]]\n"
     ]
    }
   ],
   "source": [
    "sess = tf.Session()\n",
    "# result = sess.run(const)\n",
    "# result = sess.run(d)\n",
    "# init = tf.global_variables_initializer()\n",
    "# sess.run(init)\n",
    "# result = sess.run(var4)\n",
    "# result = sess.run(result_value, feed_dict=feed_dict)\n",
    "result = sess.run(result_tensor, feed_dict)\n",
    "print(result)"
   ]
  },
  {
   "cell_type": "code",
   "execution_count": null,
   "metadata": {
    "collapsed": true
   },
   "outputs": [],
   "source": []
  }
 ],
 "metadata": {
  "kernelspec": {
   "display_name": "Python 3",
   "language": "python",
   "name": "python3"
  },
  "language_info": {
   "codemirror_mode": {
    "name": "ipython",
    "version": 3
   },
   "file_extension": ".py",
   "mimetype": "text/x-python",
   "name": "python",
   "nbconvert_exporter": "python",
   "pygments_lexer": "ipython3",
   "version": "3.6.3"
  }
 },
 "nbformat": 4,
 "nbformat_minor": 2
}
