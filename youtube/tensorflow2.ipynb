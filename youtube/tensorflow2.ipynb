{
 "cells": [
  {
   "cell_type": "code",
   "execution_count": 128,
   "metadata": {
    "collapsed": true
   },
   "outputs": [],
   "source": [
    "import tensorflow as tf\n",
    "import numpy as np"
   ]
  },
  {
   "cell_type": "code",
   "execution_count": 129,
   "metadata": {
    "collapsed": true
   },
   "outputs": [],
   "source": [
    "input_data = [[1,5,3,7,8,10,12],\n",
    "              [5,8,10,3,9,7,1]\n",
    "             ]\n",
    "label_data = [[0,0,0,1,0],\n",
    "              [1,0,0,0,0]\n",
    "             ]"
   ]
  },
  {
   "cell_type": "code",
   "execution_count": 130,
   "metadata": {
    "collapsed": true
   },
   "outputs": [],
   "source": [
    "INPUT_SIZE = 7\n",
    "HIDDEN1_SIZE = 10\n",
    "HIDDEN2_SIZE = 8\n",
    "CLASSES = 5\n",
    "\n",
    "LEARNING_RATE = 0.5"
   ]
  },
  {
   "cell_type": "code",
   "execution_count": 131,
   "metadata": {
    "collapsed": true
   },
   "outputs": [],
   "source": [
    "x = tf.placeholder(tf.float32, shape=[None,INPUT_SIZE])\n",
    "y_ = tf.placeholder(tf.float32, shape=[None,CLASSES])"
   ]
  },
  {
   "cell_type": "code",
   "execution_count": 132,
   "metadata": {
    "collapsed": true
   },
   "outputs": [],
   "source": [
    "tensor_map = {x: input_data, y_: label_data}"
   ]
  },
  {
   "cell_type": "code",
   "execution_count": 133,
   "metadata": {
    "collapsed": true
   },
   "outputs": [],
   "source": [
    "W_h1 = tf.Variable(tf.truncated_normal(shape=[INPUT_SIZE,HIDDEN1_SIZE]),dtype=tf.float32)\n",
    "b_h1 = tf.Variable(tf.zeros(shape=[HIDDEN1_SIZE]), dtype=tf.float32)\n",
    "\n",
    "W_h2 = tf.Variable(tf.truncated_normal(shape=[HIDDEN1_SIZE,HIDDEN2_SIZE]),dtype=tf.float32)\n",
    "b_h2 = tf.Variable(tf.zeros(shape=[HIDDEN2_SIZE]), dtype=tf.float32)\n",
    "\n",
    "W_o = tf.Variable(tf.truncated_normal(shape=[HIDDEN2_SIZE,CLASSES]),dtype=tf.float32)\n",
    "b_o = tf.Variable(tf.zeros(shape=[CLASSES]), dtype=tf.float32)\n",
    "\n",
    "param_list = [W_h1, b_h1, W_h2, b_h2, W_o, b_o,]\n",
    "saver = tf.train.Saver(param_list)"
   ]
  },
  {
   "cell_type": "code",
   "execution_count": 134,
   "metadata": {
    "collapsed": true
   },
   "outputs": [],
   "source": [
    "hidden1 = tf.sigmoid(tf.matmul(x,W_h1)+b_h1)\n",
    "hidden2 = tf.sigmoid(tf.matmul(hidden1,W_h2)+b_h2)\n",
    "y = tf.sigmoid(tf.matmul(hidden2,W_o)+b_o)"
   ]
  },
  {
   "cell_type": "code",
   "execution_count": 135,
   "metadata": {
    "collapsed": true
   },
   "outputs": [],
   "source": [
    "# cost = -y_ * tf.log(y)-(1-y_)*tf.log(1-y)\n",
    "cost = tf.reduce_sum(-y_ * tf.log(y)-(1-y_)*tf.log(1-y), reduction_indices=1)\n",
    "cost = tf.reduce_mean(cost)\n",
    "train = tf.train.GradientDescentOptimizer(LEARNING_RATE).minimize(cost)"
   ]
  },
  {
   "cell_type": "code",
   "execution_count": 136,
   "metadata": {},
   "outputs": [],
   "source": [
    "comp_pred = tf.equal(tf.argmax(y,1), tf.argmax(y_, 1))\n",
    "accuracy = tf.reduce_mean(tf.cast(comp_pred, tf.float32))"
   ]
  },
  {
   "cell_type": "code",
   "execution_count": 137,
   "metadata": {},
   "outputs": [
    {
     "name": "stdout",
     "output_type": "stream",
     "text": [
      "Step    :  0\n",
      "Loss    :  3.64753\n",
      "accuracy:  0.0\n",
      "---------------\n",
      "Step    :  100\n",
      "Loss    :  0.0693941\n",
      "accuracy:  1.0\n",
      "---------------\n",
      "Step    :  200\n",
      "Loss    :  0.0312579\n",
      "accuracy:  1.0\n",
      "---------------\n",
      "Step    :  300\n",
      "Loss    :  0.0199121\n",
      "accuracy:  1.0\n",
      "---------------\n",
      "Step    :  400\n",
      "Loss    :  0.0145367\n",
      "accuracy:  1.0\n",
      "---------------\n",
      "Step    :  500\n",
      "Loss    :  0.0114168\n",
      "accuracy:  1.0\n",
      "---------------\n",
      "Step    :  600\n",
      "Loss    :  0.00938439\n",
      "accuracy:  1.0\n",
      "---------------\n",
      "Step    :  700\n",
      "Loss    :  0.00795783\n",
      "accuracy:  1.0\n",
      "---------------\n",
      "Step    :  800\n",
      "Loss    :  0.00690229\n",
      "accuracy:  1.0\n",
      "---------------\n",
      "Step    :  900\n",
      "Loss    :  0.00609064\n",
      "accuracy:  1.0\n",
      "---------------\n"
     ]
    }
   ],
   "source": [
    "sess = tf.Session()\n",
    "init = tf.global_variables_initializer()\n",
    "sess.run(init)\n",
    "# print(sess.run(cost, feed_dict=tensor_map ))\n",
    "for i in range(1000):\n",
    "    _, loss, acc = sess.run([train, cost, accuracy], feed_dict=tensor_map)\n",
    "#     pred = sess.run(tf.argmax(y,1), tensor_map)\n",
    "    if i% 100 == 0:\n",
    "        saver.save(sess, \"./tensorflow_live.ckpt\")\n",
    "        print(\"Step    : \",i)\n",
    "        print(\"Loss    : \",loss)\n",
    "        print(\"accuracy: \",acc)\n",
    "        print(\"---------------\")\n",
    "#         print(pred)\n",
    "        \n",
    "sess.close()"
   ]
  },
  {
   "cell_type": "code",
   "execution_count": null,
   "metadata": {
    "collapsed": true
   },
   "outputs": [],
   "source": []
  }
 ],
 "metadata": {
  "kernelspec": {
   "display_name": "Python 3",
   "language": "python",
   "name": "python3"
  },
  "language_info": {
   "codemirror_mode": {
    "name": "ipython",
    "version": 3
   },
   "file_extension": ".py",
   "mimetype": "text/x-python",
   "name": "python",
   "nbconvert_exporter": "python",
   "pygments_lexer": "ipython3",
   "version": "3.6.3"
  }
 },
 "nbformat": 4,
 "nbformat_minor": 2
}
